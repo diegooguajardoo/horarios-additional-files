{
 "cells": [
  {
   "cell_type": "code",
   "execution_count": 292,
   "metadata": {},
   "outputs": [],
   "source": [
    "import pandas as pd\n",
    "datatypes = {'Bach': 'O',\n",
    "'CRN': 'O',\n",
    "'Academia': 'O',\n",
    "'Materia': 'O',\n",
    "'Maestro': 'O',\n",
    "'Semestre': 'int64',\n",
    "'Frecuencia': 'int64',\n",
    "'Salón': 'int64',\n",
    "'Hora': 'O',\n",
    "'Dias': 'O',\n",
    "'BLOQUE': 'O',\n",
    "'Semana1': 'O',\n",
    "'Semana2': 'O',\n",
    "'Semana3': 'O',\n",
    "'Semana4': 'O',\n",
    "'Semana5': 'O',\n",
    "'Semana6': 'O',\n",
    "'Semana7': 'O',\n",
    "'Semana8': 'O',\n",
    "'Semana9': 'O',\n",
    "'Semana10': 'O',\n",
    "'Semana11': 'O',\n",
    "'Semana12': 'O',\n",
    "'Semana13': 'O',\n",
    "'Semana14': 'O',\n",
    "'Semana15': 'O',\n",
    "'Semana16': 'O',\n",
    "'Semana17': 'O',\n",
    "'Semana18': 'O'}\n",
    "df = pd.read_csv(\"propuesta aulas flexibles (1).csv\", encoding=\"utf-8\", dtype=datatypes)\n",
    "df.columns = ['Bach','CRN','Academia','Materia','Maestro','Semestre','Frecuencia','Salón','Hora','Dias','BLOQUE','Semana1','Semana2','Semana3','Semana4','Semana5','Semana6','Semana7','Semana8','Semana9','Semana10','Semana11','Semana12','Semana13','Semana14','Semana15','Semana16','Semana17','Semana18']\n"
   ]
  },
  {
   "cell_type": "code",
   "execution_count": 293,
   "metadata": {},
   "outputs": [],
   "source": [
    "df = df.applymap(lambda x: x.replace(\"  \", \" \").strip() if isinstance(x, str) else x)"
   ]
  },
  {
   "cell_type": "code",
   "execution_count": 294,
   "metadata": {},
   "outputs": [],
   "source": [
    "semanas = ['Semana1', 'Semana2','Semana3', 'Semana4', 'Semana5', 'Semana6', 'Semana7', 'Semana8','Semana9', 'Semana10', 'Semana11', 'Semana12', 'Semana13', 'Semana14','Semana15', 'Semana16', 'Semana17', 'Semana18']\n",
    "df = df.apply(lambda x: x.fillna(df[\"Salón\"]))\n"
   ]
  },
  {
   "cell_type": "code",
   "execution_count": 295,
   "metadata": {},
   "outputs": [],
   "source": [
    "def transform_data2(x):\n",
    "    x = x.copy()\n",
    "    x[\"Dias\"] = x[\"Dias\"].apply(lambda x: str(x).split(\"//\"))\n",
    "    x[\"Hora\"] = x[\"Hora\"].apply(lambda x: str(x).split(\"//\"))\n",
    "    x = x.explode([\"Dias\", \"Hora\"])\n",
    "\n",
    "    x[\"Dias\"] = x[\"Dias\"].apply(lambda x: str(x).split(\"-\"))\n",
    "    #x[\"Hora\"] = x[\"Hora\"].apply(lambda x: str(x).split(\"-\"))\n",
    "    x = x.explode(\"Dias\")\n",
    "\n",
    "    x[\"Dias\"] = x[\"Dias\"].apply(lambda x: x.strip())\n",
    "    x[\"Hora\"] = x[\"Hora\"].apply(lambda x: x.strip())\n",
    "\n",
    "    x[\"Dias\"] = x[\"Dias\"].replace({\"L\": \"Lunes\", \"M\": \"Martes\", \"W\": \"Miercoles\", \"J\": \"Jueves\", \"V\": \"Viernes\"}, regex=True)\n",
    "    x[\"Dias\"] = x[\"Dias\"].astype(pd.CategoricalDtype(['Lunes', 'Martes', 'Miercoles','Jueves', 'Viernes'], ordered=True))\n",
    "    x[\"Hora\"] = x[\"Hora\"].astype(int)\n",
    "\n",
    "    for column in x.columns:\n",
    "        if \"Semana\" in column:\n",
    "            x[\"Info_\"+column] = x[\"Materia\"].astype(str) + \"\\n \" + x[column].astype(str)\n",
    "    \n",
    "    x = x.apply(lambda x: x.str.strip() if x.dtype == \"object\" else x)\n",
    "    return x.reset_index(drop=True)\n"
   ]
  },
  {
   "cell_type": "code",
   "execution_count": 296,
   "metadata": {},
   "outputs": [],
   "source": [
    "datos = transform_data2(df)"
   ]
  },
  {
   "cell_type": "code",
   "execution_count": 297,
   "metadata": {},
   "outputs": [],
   "source": [
    "materia_value = \"/\".join(datos[datos.duplicated([\"Maestro\", \"Hora\", \"Dias\"], keep=False)][\"Materia\"].unique().tolist())\n",
    "datos.loc[datos.duplicated([\"Maestro\", \"Hora\", \"Dias\"], keep=False),\"Materia\"] = materia_value\n",
    "bach_value = \"/\".join(datos[datos.duplicated([\"Maestro\", \"Hora\", \"Dias\"], keep=False)][\"Bach\"].unique().tolist())\n",
    "datos.loc[datos.duplicated([\"Maestro\", \"Hora\", \"Dias\"], keep=False),\"Bach\"] = bach_value\n",
    "crn_value = \"/\".join(datos[datos.duplicated([\"Maestro\", \"Hora\", \"Dias\"], keep=False)][\"CRN\"].unique().tolist())\n",
    "datos.loc[datos.duplicated([\"Maestro\", \"Hora\", \"Dias\"], keep=False),\"CRN\"] = crn_value\n"
   ]
  },
  {
   "cell_type": "code",
   "execution_count": 287,
   "metadata": {},
   "outputs": [
    {
     "data": {
      "text/plain": [
       "array(['Ciencias Sociales II: Política Global II PD Cross list con P3/Tópicos de Humanidades (P3)'],\n",
       "      dtype=object)"
      ]
     },
     "execution_count": 287,
     "metadata": {},
     "output_type": "execute_result"
    }
   ],
   "source": [
    "datos[datos.duplicated([\"Maestro\", \"Hora\", \"Dias\"], keep=False)][\"Materia\"].unique()"
   ]
  },
  {
   "cell_type": "code",
   "execution_count": 288,
   "metadata": {},
   "outputs": [],
   "source": [
    "datos.drop_duplicates([\"Maestro\", \"Hora\", \"Dias\"], keep=\"first\", inplace=True)"
   ]
  },
  {
   "cell_type": "code",
   "execution_count": 291,
   "metadata": {},
   "outputs": [
    {
     "data": {
      "text/plain": [
       "Bach               0\n",
       "CRN                0\n",
       "Academia           2\n",
       "Materia            0\n",
       "Maestro            0\n",
       "Semestre           0\n",
       "Frecuencia         0\n",
       "Salón              0\n",
       "Hora               0\n",
       "Dias               0\n",
       "BLOQUE             0\n",
       "Semana1          110\n",
       "Semana2          110\n",
       "Semana3          110\n",
       "Semana4          110\n",
       "Semana5          110\n",
       "Semana6          110\n",
       "Semana7          110\n",
       "Semana8          110\n",
       "Semana9          110\n",
       "Semana10         110\n",
       "Semana11         110\n",
       "Semana12         110\n",
       "Semana13         110\n",
       "Semana14         110\n",
       "Semana15         110\n",
       "Semana16         110\n",
       "Semana17         110\n",
       "Semana18         110\n",
       "Info_Semana1       0\n",
       "Info_Semana2       0\n",
       "Info_Semana3       0\n",
       "Info_Semana4       0\n",
       "Info_Semana5       0\n",
       "Info_Semana6       0\n",
       "Info_Semana7       0\n",
       "Info_Semana8       0\n",
       "Info_Semana9       0\n",
       "Info_Semana10      0\n",
       "Info_Semana11      0\n",
       "Info_Semana12      0\n",
       "Info_Semana13      0\n",
       "Info_Semana14      0\n",
       "Info_Semana15      0\n",
       "Info_Semana16      0\n",
       "Info_Semana17      0\n",
       "Info_Semana18      0\n",
       "dtype: int64"
      ]
     },
     "execution_count": 291,
     "metadata": {},
     "output_type": "execute_result"
    }
   ],
   "source": [
    "datos.isna().sum()"
   ]
  },
  {
   "cell_type": "code",
   "execution_count": 277,
   "metadata": {},
   "outputs": [],
   "source": [
    "datos.to_csv(\"clip_transformed2.csv\", index=False)"
   ]
  },
  {
   "cell_type": "markdown",
   "metadata": {},
   "source": [
    "# Extras"
   ]
  },
  {
   "cell_type": "code",
   "execution_count": 264,
   "metadata": {},
   "outputs": [],
   "source": [
    "def produce_week2(data,week):\n",
    "    if (data.Dias.nunique() == 5) & (data.Hora.nunique() == 5):\n",
    "        output = data.pivot_table(index=\"Hora\", columns=\"Dias\", values=f\"Info_Semana{week}\", aggfunc=lambda x: \"\\n\".join(x)).fillna(\" \")\n",
    "        output[\"Hora\"] = output.index\n",
    "        output = output[[\"Hora\",\"Lunes\", \"Martes\", \"Miercoles\", \"Jueves\", \"Viernes\"]]\n",
    "        return output\n",
    "    else:\n",
    "        blank = pd.DataFrame(columns=pd.Categorical([\"Hora\",\"Lunes\", \"Martes\", \"Miercoles\", \"Jueves\", \"Viernes\"], ordered=True), index=pd.Series(range(1,6)))\n",
    "        result = data.pivot_table(index=\"Hora\", columns=\"Dias\", values=f\"Info_Semana{week}\", aggfunc=lambda x: \"\\n\".join(x)).fillna(\" \")\n",
    "        output = result.combine_first(blank).fillna(\" \")\n",
    "        output = output[[\"Hora\",\"Lunes\", \"Martes\", \"Miercoles\", \"Jueves\", \"Viernes\"]]\n",
    "        return output"
   ]
  },
  {
   "cell_type": "code",
   "execution_count": 265,
   "metadata": {},
   "outputs": [],
   "source": [
    "disrrupt = [201, 205,301,305,401,405,11102,14002,14004,9102,10102]"
   ]
  }
 ],
 "metadata": {
  "kernelspec": {
   "display_name": "base",
   "language": "python",
   "name": "python3"
  },
  "language_info": {
   "codemirror_mode": {
    "name": "ipython",
    "version": 3
   },
   "file_extension": ".py",
   "mimetype": "text/x-python",
   "name": "python",
   "nbconvert_exporter": "python",
   "pygments_lexer": "ipython3",
   "version": "3.11.4"
  }
 },
 "nbformat": 4,
 "nbformat_minor": 2
}
